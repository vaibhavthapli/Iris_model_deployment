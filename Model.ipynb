{
 "cells": [
  {
   "cell_type": "code",
   "execution_count": 1,
   "metadata": {},
   "outputs": [],
   "source": [
    "import numpy as np\n",
    "from sklearn.utils import shuffle\n",
    "from sklearn.preprocessing import StandardScaler\n",
    "import pandas as pd\n",
    "import matplotlib.pyplot as plt\n",
    "import seaborn as sns\n",
    "%matplotlib inline"
   ]
  },
  {
   "cell_type": "code",
   "execution_count": 2,
   "metadata": {},
   "outputs": [
    {
     "data": {
      "text/html": [
       "<div>\n",
       "<style scoped>\n",
       "    .dataframe tbody tr th:only-of-type {\n",
       "        vertical-align: middle;\n",
       "    }\n",
       "\n",
       "    .dataframe tbody tr th {\n",
       "        vertical-align: top;\n",
       "    }\n",
       "\n",
       "    .dataframe thead th {\n",
       "        text-align: right;\n",
       "    }\n",
       "</style>\n",
       "<table border=\"1\" class=\"dataframe\">\n",
       "  <thead>\n",
       "    <tr style=\"text-align: right;\">\n",
       "      <th></th>\n",
       "      <th>Id</th>\n",
       "      <th>SepalLengthCm</th>\n",
       "      <th>SepalWidthCm</th>\n",
       "      <th>PetalLengthCm</th>\n",
       "      <th>PetalWidthCm</th>\n",
       "      <th>Species</th>\n",
       "    </tr>\n",
       "  </thead>\n",
       "  <tbody>\n",
       "    <tr>\n",
       "      <th>0</th>\n",
       "      <td>1</td>\n",
       "      <td>5.1</td>\n",
       "      <td>3.5</td>\n",
       "      <td>1.4</td>\n",
       "      <td>0.2</td>\n",
       "      <td>Iris-setosa</td>\n",
       "    </tr>\n",
       "    <tr>\n",
       "      <th>1</th>\n",
       "      <td>2</td>\n",
       "      <td>4.9</td>\n",
       "      <td>3.0</td>\n",
       "      <td>1.4</td>\n",
       "      <td>0.2</td>\n",
       "      <td>Iris-setosa</td>\n",
       "    </tr>\n",
       "    <tr>\n",
       "      <th>2</th>\n",
       "      <td>3</td>\n",
       "      <td>4.7</td>\n",
       "      <td>3.2</td>\n",
       "      <td>1.3</td>\n",
       "      <td>0.2</td>\n",
       "      <td>Iris-setosa</td>\n",
       "    </tr>\n",
       "    <tr>\n",
       "      <th>3</th>\n",
       "      <td>4</td>\n",
       "      <td>4.6</td>\n",
       "      <td>3.1</td>\n",
       "      <td>1.5</td>\n",
       "      <td>0.2</td>\n",
       "      <td>Iris-setosa</td>\n",
       "    </tr>\n",
       "    <tr>\n",
       "      <th>4</th>\n",
       "      <td>5</td>\n",
       "      <td>5.0</td>\n",
       "      <td>3.6</td>\n",
       "      <td>1.4</td>\n",
       "      <td>0.2</td>\n",
       "      <td>Iris-setosa</td>\n",
       "    </tr>\n",
       "  </tbody>\n",
       "</table>\n",
       "</div>"
      ],
      "text/plain": [
       "   Id  SepalLengthCm  SepalWidthCm  PetalLengthCm  PetalWidthCm      Species\n",
       "0   1            5.1           3.5            1.4           0.2  Iris-setosa\n",
       "1   2            4.9           3.0            1.4           0.2  Iris-setosa\n",
       "2   3            4.7           3.2            1.3           0.2  Iris-setosa\n",
       "3   4            4.6           3.1            1.5           0.2  Iris-setosa\n",
       "4   5            5.0           3.6            1.4           0.2  Iris-setosa"
      ]
     },
     "execution_count": 2,
     "metadata": {},
     "output_type": "execute_result"
    }
   ],
   "source": [
    "data = pd.read_csv(\"iris.csv\")\n",
    "data.head()"
   ]
  },
  {
   "cell_type": "code",
   "execution_count": 3,
   "metadata": {},
   "outputs": [],
   "source": [
    "X = data.iloc[:,1:5]\n",
    "Y = data.iloc[:,5]"
   ]
  },
  {
   "cell_type": "code",
   "execution_count": 4,
   "metadata": {},
   "outputs": [
    {
     "data": {
      "text/html": [
       "<div>\n",
       "<style scoped>\n",
       "    .dataframe tbody tr th:only-of-type {\n",
       "        vertical-align: middle;\n",
       "    }\n",
       "\n",
       "    .dataframe tbody tr th {\n",
       "        vertical-align: top;\n",
       "    }\n",
       "\n",
       "    .dataframe thead th {\n",
       "        text-align: right;\n",
       "    }\n",
       "</style>\n",
       "<table border=\"1\" class=\"dataframe\">\n",
       "  <thead>\n",
       "    <tr style=\"text-align: right;\">\n",
       "      <th></th>\n",
       "      <th>SepalLengthCm</th>\n",
       "      <th>SepalWidthCm</th>\n",
       "      <th>PetalLengthCm</th>\n",
       "      <th>PetalWidthCm</th>\n",
       "    </tr>\n",
       "  </thead>\n",
       "  <tbody>\n",
       "    <tr>\n",
       "      <th>0</th>\n",
       "      <td>5.1</td>\n",
       "      <td>3.5</td>\n",
       "      <td>1.4</td>\n",
       "      <td>0.2</td>\n",
       "    </tr>\n",
       "    <tr>\n",
       "      <th>1</th>\n",
       "      <td>4.9</td>\n",
       "      <td>3.0</td>\n",
       "      <td>1.4</td>\n",
       "      <td>0.2</td>\n",
       "    </tr>\n",
       "    <tr>\n",
       "      <th>2</th>\n",
       "      <td>4.7</td>\n",
       "      <td>3.2</td>\n",
       "      <td>1.3</td>\n",
       "      <td>0.2</td>\n",
       "    </tr>\n",
       "    <tr>\n",
       "      <th>3</th>\n",
       "      <td>4.6</td>\n",
       "      <td>3.1</td>\n",
       "      <td>1.5</td>\n",
       "      <td>0.2</td>\n",
       "    </tr>\n",
       "    <tr>\n",
       "      <th>4</th>\n",
       "      <td>5.0</td>\n",
       "      <td>3.6</td>\n",
       "      <td>1.4</td>\n",
       "      <td>0.2</td>\n",
       "    </tr>\n",
       "    <tr>\n",
       "      <th>...</th>\n",
       "      <td>...</td>\n",
       "      <td>...</td>\n",
       "      <td>...</td>\n",
       "      <td>...</td>\n",
       "    </tr>\n",
       "    <tr>\n",
       "      <th>145</th>\n",
       "      <td>6.7</td>\n",
       "      <td>3.0</td>\n",
       "      <td>5.2</td>\n",
       "      <td>2.3</td>\n",
       "    </tr>\n",
       "    <tr>\n",
       "      <th>146</th>\n",
       "      <td>6.3</td>\n",
       "      <td>2.5</td>\n",
       "      <td>5.0</td>\n",
       "      <td>1.9</td>\n",
       "    </tr>\n",
       "    <tr>\n",
       "      <th>147</th>\n",
       "      <td>6.5</td>\n",
       "      <td>3.0</td>\n",
       "      <td>5.2</td>\n",
       "      <td>2.0</td>\n",
       "    </tr>\n",
       "    <tr>\n",
       "      <th>148</th>\n",
       "      <td>6.2</td>\n",
       "      <td>3.4</td>\n",
       "      <td>5.4</td>\n",
       "      <td>2.3</td>\n",
       "    </tr>\n",
       "    <tr>\n",
       "      <th>149</th>\n",
       "      <td>5.9</td>\n",
       "      <td>3.0</td>\n",
       "      <td>5.1</td>\n",
       "      <td>1.8</td>\n",
       "    </tr>\n",
       "  </tbody>\n",
       "</table>\n",
       "<p>150 rows × 4 columns</p>\n",
       "</div>"
      ],
      "text/plain": [
       "     SepalLengthCm  SepalWidthCm  PetalLengthCm  PetalWidthCm\n",
       "0              5.1           3.5            1.4           0.2\n",
       "1              4.9           3.0            1.4           0.2\n",
       "2              4.7           3.2            1.3           0.2\n",
       "3              4.6           3.1            1.5           0.2\n",
       "4              5.0           3.6            1.4           0.2\n",
       "..             ...           ...            ...           ...\n",
       "145            6.7           3.0            5.2           2.3\n",
       "146            6.3           2.5            5.0           1.9\n",
       "147            6.5           3.0            5.2           2.0\n",
       "148            6.2           3.4            5.4           2.3\n",
       "149            5.9           3.0            5.1           1.8\n",
       "\n",
       "[150 rows x 4 columns]"
      ]
     },
     "execution_count": 4,
     "metadata": {},
     "output_type": "execute_result"
    }
   ],
   "source": [
    "X"
   ]
  },
  {
   "cell_type": "code",
   "execution_count": 5,
   "metadata": {},
   "outputs": [],
   "source": [
    "from sklearn.preprocessing import LabelEncoder\n",
    "#one_hot encoding in species\n",
    "encoder = LabelEncoder()\n",
    "encoder.fit(Y)\n",
    "encoded_Y=encoder.transform(Y)"
   ]
  },
  {
   "cell_type": "code",
   "execution_count": 6,
   "metadata": {},
   "outputs": [
    {
     "data": {
      "text/plain": [
       "array([0, 0, 0, 0, 0, 0, 0, 0, 0, 0, 0, 0, 0, 0, 0, 0, 0, 0, 0, 0, 0, 0,\n",
       "       0, 0, 0, 0, 0, 0, 0, 0, 0, 0, 0, 0, 0, 0, 0, 0, 0, 0, 0, 0, 0, 0,\n",
       "       0, 0, 0, 0, 0, 0, 1, 1, 1, 1, 1, 1, 1, 1, 1, 1, 1, 1, 1, 1, 1, 1,\n",
       "       1, 1, 1, 1, 1, 1, 1, 1, 1, 1, 1, 1, 1, 1, 1, 1, 1, 1, 1, 1, 1, 1,\n",
       "       1, 1, 1, 1, 1, 1, 1, 1, 1, 1, 1, 1, 2, 2, 2, 2, 2, 2, 2, 2, 2, 2,\n",
       "       2, 2, 2, 2, 2, 2, 2, 2, 2, 2, 2, 2, 2, 2, 2, 2, 2, 2, 2, 2, 2, 2,\n",
       "       2, 2, 2, 2, 2, 2, 2, 2, 2, 2, 2, 2, 2, 2, 2, 2, 2, 2])"
      ]
     },
     "execution_count": 6,
     "metadata": {},
     "output_type": "execute_result"
    }
   ],
   "source": [
    "encoded_Y"
   ]
  },
  {
   "cell_type": "code",
   "execution_count": 7,
   "metadata": {},
   "outputs": [],
   "source": [
    "Y=encoded_Y"
   ]
  },
  {
   "cell_type": "code",
   "execution_count": 8,
   "metadata": {},
   "outputs": [
    {
     "data": {
      "text/plain": [
       "array([0, 0, 0, 0, 0, 0, 0, 0, 0, 0, 0, 0, 0, 0, 0, 0, 0, 0, 0, 0, 0, 0,\n",
       "       0, 0, 0, 0, 0, 0, 0, 0, 0, 0, 0, 0, 0, 0, 0, 0, 0, 0, 0, 0, 0, 0,\n",
       "       0, 0, 0, 0, 0, 0, 1, 1, 1, 1, 1, 1, 1, 1, 1, 1, 1, 1, 1, 1, 1, 1,\n",
       "       1, 1, 1, 1, 1, 1, 1, 1, 1, 1, 1, 1, 1, 1, 1, 1, 1, 1, 1, 1, 1, 1,\n",
       "       1, 1, 1, 1, 1, 1, 1, 1, 1, 1, 1, 1, 2, 2, 2, 2, 2, 2, 2, 2, 2, 2,\n",
       "       2, 2, 2, 2, 2, 2, 2, 2, 2, 2, 2, 2, 2, 2, 2, 2, 2, 2, 2, 2, 2, 2,\n",
       "       2, 2, 2, 2, 2, 2, 2, 2, 2, 2, 2, 2, 2, 2, 2, 2, 2, 2])"
      ]
     },
     "execution_count": 8,
     "metadata": {},
     "output_type": "execute_result"
    }
   ],
   "source": [
    "Y"
   ]
  },
  {
   "cell_type": "code",
   "execution_count": 9,
   "metadata": {},
   "outputs": [],
   "source": [
    "from sklearn.model_selection import train_test_split\n",
    "X_train,X_test,Y_train,Y_test =  train_test_split(X,Y, test_size = 0.2, random_state =24) "
   ]
  },
  {
   "cell_type": "code",
   "execution_count": 10,
   "metadata": {},
   "outputs": [
    {
     "data": {
      "text/plain": [
       "array([2, 2, 1, 1, 2, 0, 0, 1, 0, 2, 0, 0, 0, 2, 2, 0, 2, 0, 2, 2, 2, 2,\n",
       "       2, 1, 2, 0, 2, 2, 0, 2])"
      ]
     },
     "execution_count": 10,
     "metadata": {},
     "output_type": "execute_result"
    }
   ],
   "source": [
    "Y_test"
   ]
  },
  {
   "cell_type": "code",
   "execution_count": 11,
   "metadata": {},
   "outputs": [
    {
     "name": "stdout",
     "output_type": "stream",
     "text": [
      "(120, 4)\n",
      "(30, 4)\n",
      "(120,)\n",
      "(30,)\n"
     ]
    }
   ],
   "source": [
    "print(X_train.shape)\n",
    "print(X_test.shape)\n",
    "print(Y_train.shape)\n",
    "print(Y_test.shape)"
   ]
  },
  {
   "cell_type": "code",
   "execution_count": 12,
   "metadata": {},
   "outputs": [],
   "source": [
    "X_train = np.array(X_train)\n",
    "X_test = np.array(X_test)\n",
    "Y_train = np.array(Y_train)\n",
    "Y_test = np.array(Y_test)"
   ]
  },
  {
   "cell_type": "code",
   "execution_count": 13,
   "metadata": {},
   "outputs": [
    {
     "data": {
      "text/plain": [
       "array([2, 2, 1, 1, 2, 0, 0, 1, 0, 2, 0, 0, 0, 2, 2, 0, 2, 0, 2, 2, 2, 2,\n",
       "       2, 1, 2, 0, 2, 2, 0, 2])"
      ]
     },
     "execution_count": 13,
     "metadata": {},
     "output_type": "execute_result"
    }
   ],
   "source": [
    "Y_test"
   ]
  },
  {
   "cell_type": "code",
   "execution_count": 14,
   "metadata": {},
   "outputs": [
    {
     "name": "stdout",
     "output_type": "stream",
     "text": [
      "(120, 4)\n",
      "(30, 4)\n",
      "(120,)\n",
      "(30,)\n"
     ]
    }
   ],
   "source": [
    "print(X_train.shape)\n",
    "print(X_test.shape)\n",
    "print(Y_train.shape)\n",
    "print(Y_test.shape)"
   ]
  },
  {
   "cell_type": "code",
   "execution_count": null,
   "metadata": {},
   "outputs": [],
   "source": []
  },
  {
   "cell_type": "code",
   "execution_count": 15,
   "metadata": {},
   "outputs": [],
   "source": [
    "X_train,Y_train = shuffle(X_train,Y_train)\n",
    "X_test, Y_test = shuffle(X_test, Y_test)"
   ]
  },
  {
   "cell_type": "code",
   "execution_count": 16,
   "metadata": {},
   "outputs": [],
   "source": [
    "#preprocessing\n",
    "from sklearn.preprocessing import StandardScaler\n",
    "sc = StandardScaler()\n",
    "X_train = sc.fit_transform(X_train)\n",
    "X_test = sc.transform(X_test)"
   ]
  },
  {
   "cell_type": "code",
   "execution_count": 17,
   "metadata": {},
   "outputs": [],
   "source": [
    "#simple tf.keras sequential model\n",
    "import tensorflow as tf\n",
    "from tensorflow import keras"
   ]
  },
  {
   "cell_type": "code",
   "execution_count": 18,
   "metadata": {},
   "outputs": [],
   "source": [
    "keras.backend.clear_session()\n",
    "np.random.seed(42)\n",
    "tf.random.set_seed(42)"
   ]
  },
  {
   "cell_type": "code",
   "execution_count": 19,
   "metadata": {},
   "outputs": [],
   "source": [
    "#model\n",
    "\n",
    "model= keras.models.Sequential([\n",
    "    keras.layers.Dense(units=5, kernel_initializer = 'he_uniform',activation='relu',input_dim = 4),\n",
    "    keras.layers.Dense(units=3, kernel_initializer = 'glorot_uniform', activation = 'softmax')\n",
    "])"
   ]
  },
  {
   "cell_type": "code",
   "execution_count": 20,
   "metadata": {},
   "outputs": [
    {
     "name": "stdout",
     "output_type": "stream",
     "text": [
      "Model: \"sequential\"\n",
      "_________________________________________________________________\n",
      "Layer (type)                 Output Shape              Param #   \n",
      "=================================================================\n",
      "dense (Dense)                (None, 5)                 25        \n",
      "_________________________________________________________________\n",
      "dense_1 (Dense)              (None, 3)                 18        \n",
      "=================================================================\n",
      "Total params: 43\n",
      "Trainable params: 43\n",
      "Non-trainable params: 0\n",
      "_________________________________________________________________\n"
     ]
    }
   ],
   "source": [
    "model.summary()"
   ]
  },
  {
   "cell_type": "code",
   "execution_count": 21,
   "metadata": {},
   "outputs": [],
   "source": [
    "model.compile(optimizer=keras.optimizers.Adam(lr=0.001,decay=1e-4),loss=\"sparse_categorical_crossentropy\", metrics=[\"accuracy\"])"
   ]
  },
  {
   "cell_type": "code",
   "execution_count": 22,
   "metadata": {},
   "outputs": [
    {
     "data": {
      "text/plain": [
       "array([[-1.49280757,  0.37402381, -1.34017615, -1.32235799],\n",
       "       [ 0.38100946, -0.07706018,  0.72465871,  0.9185311 ],\n",
       "       [ 0.13116719, -0.07706018,  0.84264928,  0.9185311 ],\n",
       "       [ 0.88069401,  0.37402381,  0.84264928,  1.19864224],\n",
       "       [-0.86820189,  0.59956581, -1.16319031, -0.90219129],\n",
       "       [ 1.13053628, -0.07706018,  0.783654  ,  0.77847553],\n",
       "       [-0.99312303,  0.8251078 , -1.28118087, -1.32235799],\n",
       "       [-1.2429653 ,  0.8251078 , -1.04519975, -1.32235799],\n",
       "       [ 1.13053628,  0.14848181,  0.4296823 ,  0.35830883],\n",
       "       [ 0.13116719,  0.37402381,  0.66566343,  0.9185311 ],\n",
       "       [-0.86820189,  0.8251078 , -1.28118087, -1.32235799],\n",
       "       [-0.86820189,  1.0506498 , -1.34017615, -1.32235799],\n",
       "       [-0.24359621, -0.75368617,  0.31169174,  0.21825326],\n",
       "       [ 2.62958991,  1.72727579,  1.60958794,  1.19864224],\n",
       "       [ 0.25608833, -0.07706018,  0.66566343,  0.9185311 ],\n",
       "       [-1.11804417,  0.14848181, -1.28118087, -1.46241356],\n",
       "       [-0.11867508,  1.72727579, -1.16319031, -1.18230242],\n",
       "       [-1.49280757,  0.8251078 , -1.34017615, -1.18230242],\n",
       "       [-0.24359621, -0.07706018,  0.48867759,  0.4983644 ],\n",
       "       [-1.74264985, -0.30260218, -1.34017615, -1.32235799],\n",
       "       [ 1.00561514, -0.07706018,  0.4296823 ,  0.35830883],\n",
       "       [-0.11867508, -0.07706018,  0.31169174,  0.07819769],\n",
       "       [-0.86820189,  1.72727579, -1.22218559, -1.32235799],\n",
       "       [-1.86757098, -0.07706018, -1.517162  , -1.46241356],\n",
       "       [ 2.37974764,  1.72727579,  1.78657379,  1.47875338],\n",
       "       [ 0.63085174,  0.59956581,  1.37360681,  1.89892008],\n",
       "       [-0.86820189,  1.50173379, -1.28118087, -1.04224685],\n",
       "       [-1.74264985,  0.37402381, -1.39917144, -1.32235799],\n",
       "       [-0.49343849,  1.50173379, -1.28118087, -1.32235799],\n",
       "       [ 0.00624606, -0.75368617,  0.25269646, -0.20191344],\n",
       "       [ 0.00624606, -0.97922817,  0.19370118,  0.07819769],\n",
       "       [-0.86820189, -1.20477016, -0.39625164, -0.06185788],\n",
       "       [ 1.38037855,  0.14848181,  0.84264928,  1.61880894],\n",
       "       [ 0.63085174, -1.65585415,  0.4296823 ,  0.21825326],\n",
       "       [-0.36851735, -1.43031216,  0.01671533, -0.20191344],\n",
       "       [-0.36851735, -1.20477016,  0.19370118,  0.21825326],\n",
       "       [-0.49343849,  1.95281778, -1.39917144, -1.04224685],\n",
       "       [ 1.13053628,  0.14848181,  0.60666815,  0.4983644 ],\n",
       "       [ 0.5059306 , -1.88139615,  0.48867759,  0.4983644 ],\n",
       "       [ 2.00498423, -0.52814417,  1.4326021 ,  1.05858667],\n",
       "       [-0.99312303,  1.27619179, -1.34017615, -1.32235799],\n",
       "       [-0.49343849, -0.07706018,  0.48867759,  0.4983644 ],\n",
       "       [-0.24359621, -0.07706018,  0.25269646,  0.21825326],\n",
       "       [-1.36788644,  0.37402381, -1.39917144, -1.32235799],\n",
       "       [-1.11804417,  0.14848181, -1.28118087, -1.46241356],\n",
       "       [-0.24359621, -0.30260218, -0.04227995,  0.21825326],\n",
       "       [-0.11867508,  3.08052776, -1.28118087, -1.04224685],\n",
       "       [ 0.88069401, -0.07706018,  0.90164456,  1.19864224],\n",
       "       [-0.36851735, -0.97922817,  0.4296823 ,  0.07819769],\n",
       "       [ 0.25608833,  0.8251078 ,  0.48867759,  0.63841997],\n",
       "       [-1.74264985, -0.07706018, -1.39917144, -1.32235799],\n",
       "       [-0.99312303,  1.0506498 , -1.22218559, -0.76213572],\n",
       "       [-0.24359621, -0.52814417,  0.72465871,  1.19864224],\n",
       "       [ 0.00624606, -0.75368617,  0.13470589,  0.07819769],\n",
       "       [ 0.25608833, -1.88139615,  0.783654  ,  0.4983644 ],\n",
       "       [-0.99312303,  1.0506498 , -1.39917144, -1.18230242],\n",
       "       [-0.11867508, -0.52814417,  0.25269646,  0.21825326],\n",
       "       [-1.49280757,  0.14848181, -1.28118087, -1.32235799],\n",
       "       [ 0.63085174, -0.75368617,  0.72465871,  0.9185311 ],\n",
       "       [ 1.50529969,  0.37402381,  0.60666815,  0.35830883],\n",
       "       [-0.49343849,  1.95281778, -1.16319031, -1.04224685],\n",
       "       [ 0.63085174,  0.59956581,  0.60666815,  0.63841997],\n",
       "       [-0.36851735,  2.62944377, -1.34017615, -1.32235799],\n",
       "       [ 0.38100946, -0.52814417,  0.19370118,  0.21825326],\n",
       "       [ 1.75514196, -0.07706018,  1.25561625,  0.63841997],\n",
       "       [ 0.88069401, -0.52814417,  0.54767287,  0.4983644 ],\n",
       "       [ 0.75577287, -0.30260218,  0.37068702,  0.21825326],\n",
       "       [-1.11804417, -1.20477016,  0.48867759,  0.77847553],\n",
       "       [ 1.25545742, -0.52814417,  0.66566343,  0.35830883],\n",
       "       [-0.99312303, -1.65585415, -0.2192658 , -0.20191344],\n",
       "       [-1.61772871, -1.65585415, -1.39917144, -1.18230242],\n",
       "       [ 2.37974764, -0.97922817,  1.90456435,  1.61880894],\n",
       "       [ 1.25545742,  0.37402381,  1.31461153,  1.61880894],\n",
       "       [ 0.38100946, -0.30260218,  0.60666815,  0.35830883],\n",
       "       [ 0.5059306 , -0.52814417,  0.66566343,  0.9185311 ],\n",
       "       [ 0.13116719, -0.07706018,  0.31169174,  0.4983644 ],\n",
       "       [ 1.75514196,  0.37402381,  1.37360681,  0.9185311 ],\n",
       "       [ 0.75577287, -0.52814417,  1.13762569,  1.33869781],\n",
       "       [-0.11867508, -0.30260218,  0.31169174,  0.21825326],\n",
       "       [-0.74328076,  2.40390177, -1.28118087, -1.46241356],\n",
       "       [ 0.5059306 , -0.30260218,  0.37068702,  0.21825326],\n",
       "       [ 0.63085174, -1.20477016,  0.783654  ,  1.05858667],\n",
       "       [ 1.00561514, -0.30260218,  0.54767287,  0.21825326],\n",
       "       [ 2.37974764, -0.52814417,  1.78657379,  1.19864224],\n",
       "       [-0.86820189,  1.72727579, -1.04519975, -1.04224685],\n",
       "       [ 1.63022082, -0.07706018,  1.31461153,  1.33869781],\n",
       "       [ 0.38100946, -0.97922817,  1.13762569,  0.35830883],\n",
       "       [-0.74328076,  0.8251078 , -1.34017615, -1.32235799],\n",
       "       [-0.99312303,  0.37402381, -1.45816672, -1.32235799],\n",
       "       [-0.99312303, -0.07706018, -1.22218559, -1.32235799],\n",
       "       [ 0.88069401, -0.07706018,  1.07863041,  0.9185311 ],\n",
       "       [-0.49343849,  0.8251078 , -1.16319031, -1.32235799],\n",
       "       [-1.49280757,  1.27619179, -1.57615728, -1.32235799],\n",
       "       [ 1.38037855,  0.14848181,  0.72465871,  0.4983644 ],\n",
       "       [ 0.25608833, -0.75368617,  0.84264928,  0.63841997],\n",
       "       [-1.11804417,  0.14848181, -1.28118087, -1.46241356],\n",
       "       [ 1.38037855,  0.14848181,  1.01963512,  1.33869781],\n",
       "       [ 0.25608833, -0.30260218,  0.48867759,  0.4983644 ],\n",
       "       [-1.2429653 , -0.07706018, -1.34017615, -1.46241356],\n",
       "       [-0.99312303, -2.33248014, -0.10127523, -0.20191344],\n",
       "       [-0.11867508, -0.97922817, -0.10127523, -0.20191344],\n",
       "       [-1.2429653 , -0.07706018, -1.34017615, -1.18230242],\n",
       "       [-0.36851735, -1.65585415,  0.19370118,  0.21825326],\n",
       "       [ 1.13053628, -0.07706018,  0.90164456,  1.61880894],\n",
       "       [-0.86820189,  1.0506498 , -1.34017615, -1.18230242],\n",
       "       [ 1.13053628,  0.59956581,  1.19662097,  1.33869781],\n",
       "       [-0.11867508, -1.20477016,  0.783654  ,  1.19864224],\n",
       "       [-0.74328076,  1.0506498 , -1.28118087, -1.32235799],\n",
       "       [-0.11867508, -0.52814417,  0.48867759,  0.21825326],\n",
       "       [-0.36851735,  1.0506498 , -1.39917144, -1.32235799],\n",
       "       [-0.36851735, -1.43031216,  0.07571061, -0.06185788],\n",
       "       [ 0.00624606, -0.75368617,  0.84264928,  1.05858667],\n",
       "       [ 0.75577287, -0.52814417,  1.13762569,  1.47875338],\n",
       "       [ 0.63085174, -0.52814417,  0.84264928,  0.4983644 ],\n",
       "       [ 0.38100946, -0.52814417,  0.60666815,  0.07819769],\n",
       "       [ 0.00624606, -0.75368617,  0.84264928,  1.05858667],\n",
       "       [-0.24359621, -1.20477016,  0.13470589, -0.06185788],\n",
       "       [ 0.38100946, -0.07706018,  0.54767287,  0.35830883],\n",
       "       [ 0.25608833, -1.88139615,  0.19370118, -0.20191344],\n",
       "       [ 0.75577287,  0.37402381,  0.96063984,  1.61880894]])"
      ]
     },
     "execution_count": 22,
     "metadata": {},
     "output_type": "execute_result"
    }
   ],
   "source": [
    "X_train"
   ]
  },
  {
   "cell_type": "code",
   "execution_count": 23,
   "metadata": {},
   "outputs": [
    {
     "name": "stdout",
     "output_type": "stream",
     "text": [
      "Train on 108 samples, validate on 12 samples\n",
      "Epoch 1/30\n",
      "108/108 - 1s - loss: 1.3829 - accuracy: 0.2685 - val_loss: 1.0882 - val_accuracy: 0.4167\n",
      "Epoch 2/30\n",
      "108/108 - 0s - loss: 1.3088 - accuracy: 0.2778 - val_loss: 1.0690 - val_accuracy: 0.4167\n",
      "Epoch 3/30\n",
      "108/108 - 0s - loss: 1.2436 - accuracy: 0.2870 - val_loss: 1.0491 - val_accuracy: 0.4167\n",
      "Epoch 4/30\n",
      "108/108 - 0s - loss: 1.1805 - accuracy: 0.3241 - val_loss: 1.0314 - val_accuracy: 0.4167\n",
      "Epoch 5/30\n",
      "108/108 - 0s - loss: 1.1242 - accuracy: 0.3611 - val_loss: 1.0140 - val_accuracy: 0.5000\n",
      "Epoch 6/30\n",
      "108/108 - 0s - loss: 1.0757 - accuracy: 0.3796 - val_loss: 0.9992 - val_accuracy: 0.5000\n",
      "Epoch 7/30\n",
      "108/108 - 0s - loss: 1.0290 - accuracy: 0.4167 - val_loss: 0.9850 - val_accuracy: 0.5000\n",
      "Epoch 8/30\n",
      "108/108 - 0s - loss: 0.9872 - accuracy: 0.4630 - val_loss: 0.9703 - val_accuracy: 0.5000\n",
      "Epoch 9/30\n",
      "108/108 - 0s - loss: 0.9504 - accuracy: 0.5000 - val_loss: 0.9570 - val_accuracy: 0.5000\n",
      "Epoch 10/30\n",
      "108/108 - 0s - loss: 0.9176 - accuracy: 0.5093 - val_loss: 0.9429 - val_accuracy: 0.5000\n",
      "Epoch 11/30\n",
      "108/108 - 0s - loss: 0.8862 - accuracy: 0.5093 - val_loss: 0.9303 - val_accuracy: 0.5000\n",
      "Epoch 12/30\n",
      "108/108 - 0s - loss: 0.8586 - accuracy: 0.5370 - val_loss: 0.9182 - val_accuracy: 0.5000\n",
      "Epoch 13/30\n",
      "108/108 - 0s - loss: 0.8327 - accuracy: 0.5556 - val_loss: 0.9051 - val_accuracy: 0.5000\n",
      "Epoch 14/30\n",
      "108/108 - 0s - loss: 0.8097 - accuracy: 0.5648 - val_loss: 0.8936 - val_accuracy: 0.5000\n",
      "Epoch 15/30\n",
      "108/108 - 0s - loss: 0.7873 - accuracy: 0.6111 - val_loss: 0.8813 - val_accuracy: 0.5000\n",
      "Epoch 16/30\n",
      "108/108 - 0s - loss: 0.7687 - accuracy: 0.6481 - val_loss: 0.8696 - val_accuracy: 0.5000\n",
      "Epoch 17/30\n",
      "108/108 - 0s - loss: 0.7493 - accuracy: 0.6481 - val_loss: 0.8572 - val_accuracy: 0.5833\n",
      "Epoch 18/30\n",
      "108/108 - 0s - loss: 0.7322 - accuracy: 0.6574 - val_loss: 0.8457 - val_accuracy: 0.5833\n",
      "Epoch 19/30\n",
      "108/108 - 0s - loss: 0.7164 - accuracy: 0.6574 - val_loss: 0.8345 - val_accuracy: 0.5833\n",
      "Epoch 20/30\n",
      "108/108 - 0s - loss: 0.7013 - accuracy: 0.6667 - val_loss: 0.8224 - val_accuracy: 0.5833\n",
      "Epoch 21/30\n",
      "108/108 - 0s - loss: 0.6869 - accuracy: 0.6667 - val_loss: 0.8112 - val_accuracy: 0.5833\n",
      "Epoch 22/30\n",
      "108/108 - 0s - loss: 0.6732 - accuracy: 0.6852 - val_loss: 0.8004 - val_accuracy: 0.5833\n",
      "Epoch 23/30\n",
      "108/108 - 0s - loss: 0.6612 - accuracy: 0.6944 - val_loss: 0.7901 - val_accuracy: 0.6667\n",
      "Epoch 24/30\n",
      "108/108 - 0s - loss: 0.6486 - accuracy: 0.7130 - val_loss: 0.7785 - val_accuracy: 0.6667\n",
      "Epoch 25/30\n",
      "108/108 - 0s - loss: 0.6371 - accuracy: 0.7130 - val_loss: 0.7681 - val_accuracy: 0.6667\n",
      "Epoch 26/30\n",
      "108/108 - 0s - loss: 0.6262 - accuracy: 0.7222 - val_loss: 0.7571 - val_accuracy: 0.6667\n",
      "Epoch 27/30\n",
      "108/108 - 0s - loss: 0.6159 - accuracy: 0.7222 - val_loss: 0.7472 - val_accuracy: 0.6667\n",
      "Epoch 28/30\n",
      "108/108 - 0s - loss: 0.6058 - accuracy: 0.7315 - val_loss: 0.7375 - val_accuracy: 0.6667\n",
      "Epoch 29/30\n",
      "108/108 - 0s - loss: 0.5962 - accuracy: 0.7500 - val_loss: 0.7278 - val_accuracy: 0.6667\n",
      "Epoch 30/30\n",
      "108/108 - 0s - loss: 0.5871 - accuracy: 0.7500 - val_loss: 0.7181 - val_accuracy: 0.6667\n"
     ]
    }
   ],
   "source": [
    "history = model.fit(X_train,Y_train,validation_split=0.1, batch_size = 10, epochs=30,shuffle=True,verbose=2)"
   ]
  },
  {
   "cell_type": "code",
   "execution_count": 24,
   "metadata": {},
   "outputs": [],
   "source": [
    "prediction = model.predict(X_test,batch_size=10,verbose=0)\n"
   ]
  },
  {
   "cell_type": "code",
   "execution_count": 25,
   "metadata": {},
   "outputs": [
    {
     "name": "stdout",
     "output_type": "stream",
     "text": [
      "[0.08458952 0.10957321 0.8058373 ]\n",
      "[0.84063935 0.14236166 0.016999  ]\n",
      "[0.8695892  0.11685752 0.01355323]\n",
      "[0.71408165 0.24212769 0.04379067]\n",
      "[0.19754979 0.2354481  0.5670021 ]\n",
      "[0.18194689 0.22081456 0.59723854]\n",
      "[0.04662133 0.06233258 0.89104605]\n",
      "[0.2533977  0.3310652  0.41553706]\n",
      "[0.23695756 0.29737    0.46567246]\n",
      "[0.11244474 0.40454352 0.48301175]\n",
      "[0.05985054 0.0766949  0.8634546 ]\n",
      "[0.93162036 0.06422237 0.00415718]\n",
      "[0.11682412 0.14385629 0.73931956]\n",
      "[0.8484977  0.1365154  0.01498688]\n",
      "[0.8728414  0.11495856 0.0122001 ]\n",
      "[0.11642477 0.14554684 0.7380284 ]\n",
      "[0.07617405 0.09722866 0.8265972 ]\n",
      "[0.079734   0.10251358 0.8177524 ]\n",
      "[0.19025369 0.23673889 0.5730074 ]\n",
      "[0.9074937  0.08543973 0.00706655]\n",
      "[0.1530604  0.18937281 0.6575668 ]\n",
      "[0.19545749 0.3989929  0.40554962]\n",
      "[0.72680265 0.23331322 0.03988412]\n",
      "[0.06222123 0.08082886 0.8569499 ]\n",
      "[0.77363735 0.19796312 0.02839948]\n",
      "[0.08955289 0.11311335 0.7973337 ]\n",
      "[0.11546328 0.14522989 0.73930687]\n",
      "[0.20516843 0.25062338 0.54420817]\n",
      "[0.10082132 0.13017842 0.7690003 ]\n",
      "[0.9331441  0.06294186 0.00391411]\n"
     ]
    }
   ],
   "source": [
    "for i in prediction:\n",
    "    print(i)"
   ]
  },
  {
   "cell_type": "code",
   "execution_count": 26,
   "metadata": {},
   "outputs": [],
   "source": [
    "rounded_prediction= np.argmax(prediction,axis=1)"
   ]
  },
  {
   "cell_type": "code",
   "execution_count": 27,
   "metadata": {},
   "outputs": [
    {
     "name": "stdout",
     "output_type": "stream",
     "text": [
      "2\n",
      "0\n",
      "0\n",
      "0\n",
      "2\n",
      "2\n",
      "2\n",
      "2\n",
      "2\n",
      "2\n",
      "2\n",
      "0\n",
      "2\n",
      "0\n",
      "0\n",
      "2\n",
      "2\n",
      "2\n",
      "2\n",
      "0\n",
      "2\n",
      "2\n",
      "0\n",
      "2\n",
      "0\n",
      "2\n",
      "2\n",
      "2\n",
      "2\n",
      "0\n"
     ]
    }
   ],
   "source": [
    "for i in rounded_prediction:\n",
    "    print(i)"
   ]
  },
  {
   "cell_type": "code",
   "execution_count": 28,
   "metadata": {},
   "outputs": [],
   "source": [
    "from sklearn.metrics import confusion_matrix\n",
    "import itertools"
   ]
  },
  {
   "cell_type": "code",
   "execution_count": 29,
   "metadata": {},
   "outputs": [],
   "source": [
    "cm=confusion_matrix(y_true=Y_test,y_pred=rounded_prediction)"
   ]
  },
  {
   "cell_type": "code",
   "execution_count": 30,
   "metadata": {},
   "outputs": [],
   "source": [
    "def plot_confusion_matrix(cm, classes,\n",
    "                        normalize=False,\n",
    "                        title='Confusion matrix',\n",
    "                        cmap=plt.cm.Blues):\n",
    "    \"\"\"\n",
    "    This function prints and plots the confusion matrix.\n",
    "    Normalization can be applied by setting `normalize=True`.\n",
    "    \"\"\"\n",
    "    plt.imshow(cm, interpolation='nearest', cmap=cmap)\n",
    "    plt.title(title)\n",
    "    plt.colorbar()\n",
    "    tick_marks = np.arange(len(classes))\n",
    "    plt.xticks(tick_marks, classes, rotation=45)\n",
    "    plt.yticks(tick_marks, classes)\n",
    "\n",
    "    if normalize:\n",
    "        cm = cm.astype('float') / cm.sum(axis=1)[:, np.newaxis]\n",
    "        print(\"Normalized confusion matrix\")\n",
    "    else:\n",
    "        print('Confusion matrix, without normalization')\n",
    "\n",
    "    print(cm)\n",
    "\n",
    "    thresh = cm.max() / 2.\n",
    "    for i, j in itertools.product(range(cm.shape[0]), range(cm.shape[1])):\n",
    "        plt.text(j, i, cm[i, j],\n",
    "            horizontalalignment=\"center\",\n",
    "            color=\"white\" if cm[i, j] > thresh else \"black\")\n",
    "\n",
    "    plt.tight_layout()\n",
    "    plt.ylabel('True label')\n",
    "    plt.xlabel('Predicted label')"
   ]
  },
  {
   "cell_type": "code",
   "execution_count": 31,
   "metadata": {},
   "outputs": [],
   "source": [
    "cm_plot_labels = ['Iris-setosa','Iris-versicolor',\"Iris-virginica\"]"
   ]
  },
  {
   "cell_type": "code",
   "execution_count": 32,
   "metadata": {},
   "outputs": [
    {
     "name": "stdout",
     "output_type": "stream",
     "text": [
      "Confusion matrix, without normalization\n",
      "[[10  0  0]\n",
      " [ 0  0  4]\n",
      " [ 0  0 16]]\n"
     ]
    },
    {
     "data": {
      "image/png": "[encoded data removed]",
      "text/plain": [
       "<Figure size 432x288 with 2 Axes>"
      ]
     },
     "metadata": {
      "needs_background": "light"
     },
     "output_type": "display_data"
    }
   ],
   "source": [
    "plot_confusion_matrix(cm=cm, classes=cm_plot_labels, title='Confusion Matrix')"
   ]
  },
  {
   "cell_type": "code",
   "execution_count": 33,
   "metadata": {},
   "outputs": [],
   "source": [
    "model.save(\"model.h5\")\n",
    "model1 = keras.models.load_model(\"model.h5\")"
   ]
  },
  {
   "cell_type": "code",
   "execution_count": 34,
   "metadata": {},
   "outputs": [
    {
     "data": {
      "text/plain": [
       "array([[0.01456087, 0.04989892, 0.9355402 ]], dtype=float32)"
      ]
     },
     "execution_count": 34,
     "metadata": {},
     "output_type": "execute_result"
    }
   ],
   "source": [
    "sa=model1.predict([[5.1,2.1,1.4,0.2]])\n",
    "sa"
   ]
  },
  {
   "cell_type": "code",
   "execution_count": 35,
   "metadata": {},
   "outputs": [
    {
     "data": {
      "text/plain": [
       "array([2], dtype=int64)"
      ]
     },
     "execution_count": 35,
     "metadata": {},
     "output_type": "execute_result"
    }
   ],
   "source": [
    "rounded_prediction= np.argmax(sa,axis=1)\n",
    "rounded_prediction"
   ]
  },
  {
   "cell_type": "code",
   "execution_count": null,
   "metadata": {},
   "outputs": [],
   "source": []
  }
 ],
 "metadata": {
  "kernelspec": {
   "display_name": "Python 3",
   "language": "python",
   "name": "python3"
  },
  "language_info": {
   "codemirror_mode": {
    "name": "ipython",
    "version": 3
   },
   "file_extension": ".py",
   "mimetype": "text/x-python",
   "name": "python",
   "nbconvert_exporter": "python",
   "pygments_lexer": "ipython3",
   "version": "3.7.7"
  }
 },
 "nbformat": 4,
 "nbformat_minor": 4
}
